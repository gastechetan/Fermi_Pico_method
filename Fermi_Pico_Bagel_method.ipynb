{
 "cells": [
  {
   "cell_type": "markdown",
   "id": "0b55c9a8",
   "metadata": {},
   "source": [
    "## Fermi Pico Bagel\n",
    "Try playing game and understand the rules : https://communicrossings.com/html/js/pfb.htm\n",
    "\n",
    "## Step 1\n",
    "Store any number in string format(number to be guessed by player) in a variable `original_number`.\n",
    "\n",
    "For Example: original_number = '123'\n"
   ]
  },
  {
   "cell_type": "code",
   "execution_count": 74,
   "id": "57a0a2d0",
   "metadata": {},
   "outputs": [],
   "source": [
    "## Your code goes here \n",
    "original_number = '123'"
   ]
  },
  {
   "cell_type": "markdown",
   "id": "fd43340c",
   "metadata": {},
   "source": [
    "## Step 2\n",
    "Take a number as user input and save it in a variable `guess_number`.(Make sure that the datatype of guess_number is same as of original number i.e- `str`)"
   ]
  },
  {
   "cell_type": "code",
   "execution_count": 75,
   "id": "2e0075a7",
   "metadata": {},
   "outputs": [
    {
     "name": "stdout",
     "output_type": "stream",
     "text": [
      "Enter the three digit number : 456\n"
     ]
    }
   ],
   "source": [
    "## Your code goes here \n",
    "guess_number = input(\"Enter the three digit number : \")"
   ]
  },
  {
   "cell_type": "markdown",
   "id": "22318243",
   "metadata": {},
   "source": [
    "## Step 3\n",
    "Check if total number of digits in `original_number` and `guess_number` is not same(Use `len()` function) then ask user for valid input.(First use `len()` to get total digits in `original_number` and `guess_number`.)"
   ]
  },
  {
   "cell_type": "code",
   "execution_count": 76,
   "id": "258e2971",
   "metadata": {},
   "outputs": [],
   "source": [
    "## Your code goes here \n",
    "if len(original_number) !=len(guess_number):\n",
    "    print(\"Enter valid number\")"
   ]
  },
  {
   "cell_type": "markdown",
   "id": "0c064bda",
   "metadata": {},
   "source": [
    "## Step 4\n",
    "Using `set()`, check if the digits are repeated in a `guess_number` .\n",
    "Note that datatype `set` allows unique values only.\n",
    "\n",
    "For ex. if `user_input`is 122, then it should print the string 'Duplicate number'  as digit 2 is repeated."
   ]
  },
  {
   "cell_type": "code",
   "execution_count": 77,
   "id": "7b5ef10d",
   "metadata": {},
   "outputs": [],
   "source": [
    "## Your code goes here \n",
    "if  len(guess_number) != len(set(guess_number)):\n",
    "    for i in set(guess_number):\n",
    "        if guess_number.count(i)>1:\n",
    "            print(i,\"Duplicate\")"
   ]
  },
  {
   "cell_type": "markdown",
   "id": "0514b8d9",
   "metadata": {},
   "source": [
    "## Step 5\n",
    "Check winning condition i.e. if both `guess_number` and `original_number` are same, then print 'Fermi' as many number of times as number of digits in a number and print ' You win !! '.\n"
   ]
  },
  {
   "cell_type": "code",
   "execution_count": 78,
   "id": "ab9379a5",
   "metadata": {},
   "outputs": [
    {
     "name": "stdout",
     "output_type": "stream",
     "text": [
      "\n"
     ]
    }
   ],
   "source": [
    "## Your code goes here \n",
    "step =0\n",
    "for i in range(len(original_number)):\n",
    "    if guess_number[i] == original_number[i]:\n",
    "        step+=1\n",
    "        if step==3:\n",
    "            print(\"YOU WIN!!\")\n",
    "print(\"Fermi \"*step)"
   ]
  },
  {
   "cell_type": "markdown",
   "id": "96eca378",
   "metadata": {},
   "source": [
    "## Step 6\n",
    "Create empty list called `output` where we will store the output in the form of list.\n",
    "\n",
    "For example: output = [ ' Fermi ', ' Pico ' ,' Pico ' ] ."
   ]
  },
  {
   "cell_type": "code",
   "execution_count": 79,
   "id": "c047a839",
   "metadata": {},
   "outputs": [],
   "source": [
    "## Your code goes here \n",
    "output=[]\n"
   ]
  },
  {
   "cell_type": "markdown",
   "id": "4949309d",
   "metadata": {},
   "source": [
    "## Step 7\n",
    "Check if any digit and it's position in both `guess_number` and `original_number` are same then append 'Fermi' to `output` list or if only digit matches and not the position then append 'Pico' to `output`.\n"
   ]
  },
  {
   "cell_type": "code",
   "execution_count": 80,
   "id": "7dbe3800",
   "metadata": {},
   "outputs": [
    {
     "data": {
      "text/plain": [
       "[]"
      ]
     },
     "execution_count": 80,
     "metadata": {},
     "output_type": "execute_result"
    }
   ],
   "source": [
    "## Your code goes here \n",
    "for i in  range(len(guess_number)):\n",
    "        if original_number[i] == guess_number[i]:\n",
    "            output.append(\"Fermi \")\n",
    "        elif guess_number[i] in original_number:\n",
    "            output.append(\"Pico\")\n",
    "output"
   ]
  },
  {
   "cell_type": "markdown",
   "id": "59e62457",
   "metadata": {},
   "source": [
    "## Step 8\n",
    "Define a variable called `output_string` which has all values from a list `output` with each value separated by space. (Use 'for' loop to get all the values from a list `output`.)"
   ]
  },
  {
   "cell_type": "code",
   "execution_count": 81,
   "id": "d15c8f60",
   "metadata": {},
   "outputs": [],
   "source": [
    "## Your code goes here \n",
    "output_string = output\n",
    "for i in output_string:\n",
    "    print(i,end =\" \")"
   ]
  },
  {
   "cell_type": "markdown",
   "id": "f3f50bef",
   "metadata": {},
   "source": [
    "## Step 9\n",
    "Check if neither any digit nor any position matches i.e. if length of `output` list is zero then print `Bagel`.\n",
    "\n",
    "Otherwise print `output_string`."
   ]
  },
  {
   "cell_type": "code",
   "execution_count": 82,
   "id": "3c568356",
   "metadata": {},
   "outputs": [
    {
     "name": "stdout",
     "output_type": "stream",
     "text": [
      "Bagels\n"
     ]
    }
   ],
   "source": [
    "## Your code goes here \n",
    "if len(output_string)==0:\n",
    "    print('Bagels')\n",
    "else:\n",
    "    print(output_string)"
   ]
  },
  {
   "cell_type": "markdown",
   "id": "9d4a684d",
   "metadata": {},
   "source": [
    "## Step 10\n",
    "\n",
    "## Complete game\n",
    "Here use continue and break statements at appropriate places."
   ]
  },
  {
   "cell_type": "code",
   "execution_count": 3,
   "id": "79843cdf",
   "metadata": {},
   "outputs": [],
   "source": [
    "## step 1\n",
    "\n",
    "## create infinite while loop\n",
    "\n",
    "## step 2 and step 6\n",
    "\n",
    "## step 3 and step 4 (use continue statement)\n",
    "\n",
    "## step 5 (use break statement for winning condition)\n",
    "\n",
    "## step 7\n",
    "\n",
    "## step 8\n",
    "\n",
    "## step 9"
   ]
  },
  {
   "cell_type": "code",
   "execution_count": 119,
   "id": "d60ca54b",
   "metadata": {},
   "outputs": [
    {
     "name": "stdout",
     "output_type": "stream",
     "text": [
      "423\n",
      "Enter the three digit number : 324\n",
      "Pico Fermi  Pico Enter the three digit number : \n",
      "Enter valid number\n",
      "Enter the three digit number : 423\n",
      "YOU WIN!!\n"
     ]
    }
   ],
   "source": [
    "import random\n",
    "while True:\n",
    "    r = random.randint(100,1000)\n",
    "    original_number = str(r) \n",
    "    if len(set(original_number)) == 3:\n",
    "        break\n",
    "    else:\n",
    "        continue\n",
    "print(r)\n",
    "while True:\n",
    "\n",
    "    guess_number = input(\"Enter the three digit number : \")\n",
    "    output = []\n",
    "    if len(original_number) !=len(guess_number):\n",
    "        print(\"Enter valid number\")\n",
    "        continue\n",
    "    if  len(guess_number) != len(set(guess_number)):\n",
    "        for i in set(guess_number):\n",
    "            if guess_number.count(i)>1:\n",
    "                print(i,\"Duplicate\")\n",
    "                continue\n",
    "    step =0\n",
    "    c=0\n",
    "    for i in range(len(original_number)):\n",
    "        if guess_number[i] == original_number[i]:\n",
    "            step+=1\n",
    "            if step==3:\n",
    "                c=1\n",
    "                print(\"YOU WIN!!\")\n",
    "    #print(\"Fermi \"*step)\n",
    "            #break\n",
    "    if c==1:\n",
    "        break\n",
    "    for i in  range(len(guess_number)):\n",
    "        if original_number[i] == guess_number[i]:\n",
    "            output.append(\"Fermi \")\n",
    "        elif guess_number[i] in original_number:\n",
    "            output.append(\"Pico\")\n",
    "\n",
    "    output_string = output\n",
    "    for i in output_string:\n",
    "        print(i,end =\" \")\n",
    "\n",
    "        \n",
    "    if len(output_string)==0:\n",
    "        print('Bagels')\n"
   ]
  },
  {
   "cell_type": "code",
   "execution_count": 73,
   "id": "8af0e500",
   "metadata": {},
   "outputs": [
    {
     "name": "stdout",
     "output_type": "stream",
     "text": [
      "956\n"
     ]
    }
   ],
   "source": [
    "import random\n",
    "\n",
    "\n",
    "# for i in original_number:\n",
    "while True:\n",
    "    r = random.randint(100,1000)\n",
    "    original_number = str(r) \n",
    "    if len(set(original_number)) == 3:\n",
    "        print(r)\n",
    "        break\n",
    "    else:\n",
    "        continue\n",
    "    \n",
    "#     s1.add(i)\n",
    "\n"
   ]
  },
  {
   "cell_type": "code",
   "execution_count": 57,
   "id": "53cf6468",
   "metadata": {},
   "outputs": [
    {
     "data": {
      "text/plain": [
       "102"
      ]
     },
     "execution_count": 57,
     "metadata": {},
     "output_type": "execute_result"
    }
   ],
   "source": [
    "l=[]\n",
    "for i in range(100, 1000):\n",
    "    if len(set(str(i))) == 3:\n",
    "        on = i\n",
    "        break\n",
    "        \n",
    "on"
   ]
  },
  {
   "cell_type": "code",
   "execution_count": 51,
   "id": "9c561a34",
   "metadata": {},
   "outputs": [
    {
     "data": {
      "text/plain": [
       "{'4', '5'}"
      ]
     },
     "execution_count": 51,
     "metadata": {},
     "output_type": "execute_result"
    }
   ],
   "source": [
    "set(str(455))"
   ]
  },
  {
   "cell_type": "code",
   "execution_count": 197,
   "id": "cb0a849f",
   "metadata": {},
   "outputs": [
    {
     "name": "stdout",
     "output_type": "stream",
     "text": [
      "6 8\n",
      "inner loop 8 6\n",
      "inner loop 6 6\n",
      "inner loop 5 6\n",
      "5 6\n",
      "inner loop 8 5\n",
      "inner loop 6 5\n",
      "inner loop 5 5\n",
      "4 5\n",
      "inner loop 8 4\n",
      "inner loop 6 4\n",
      "inner loop 5 4\n"
     ]
    },
    {
     "data": {
      "text/plain": [
       "['pico', 'pico']"
      ]
     },
     "execution_count": 197,
     "metadata": {},
     "output_type": "execute_result"
    }
   ],
   "source": [
    "a = 456\n",
    "b = 568\n",
    "temp=b\n",
    "t = b\n",
    "l =[]\n",
    "for j in range(3):\n",
    "    s = a %10\n",
    "    s1 = b % 10\n",
    "    print(s,s1)\n",
    "    if s1 == s:\n",
    "        l.append(\"Fermi\")\n",
    "    else:\n",
    "        t=temp\n",
    "        for i in range(3):\n",
    "            s2 =  t % 10\n",
    "            print('inner loop',s2,s)\n",
    "            if s == s2:\n",
    "                l.append(\"pico\")\n",
    "            t = t //10   \n",
    "                \n",
    "#     if s != s1:\n",
    "#         l.append(\"pico\")\n",
    "#     print(a,b)\n",
    "    a = a//10\n",
    "    b = b //10\n",
    "l"
   ]
  },
  {
   "cell_type": "code",
   "execution_count": 196,
   "id": "ac675dec",
   "metadata": {},
   "outputs": [
    {
     "name": "stdout",
     "output_type": "stream",
     "text": [
      "4 7\n",
      "inner loop 8 4\n",
      "inner loop 8 4\n",
      "inner loop 8 4\n",
      "4 7\n",
      "inner loop 8 4\n",
      "inner loop 8 4\n",
      "inner loop 8 4\n",
      "4 7\n",
      "inner loop 8 4\n",
      "inner loop 8 4\n",
      "inner loop 8 4\n"
     ]
    },
    {
     "data": {
      "text/plain": [
       "[]"
      ]
     },
     "execution_count": 196,
     "metadata": {},
     "output_type": "execute_result"
    }
   ],
   "source": [
    "a = 421\n",
    "b = 781\n",
    "temp=b\n",
    "t = b\n",
    "l1 =[]\n",
    "for j in range(3):\n",
    "    s = a %1000//100\n",
    "    s1 = b %1000//100\n",
    "    print(s,s1)\n",
    "    if s1 == s:\n",
    "        l.append(\"Fermi\")\n",
    "    else:\n",
    "        t=temp\n",
    "        for i in range(3):\n",
    "            s2 =  t % 100//10\n",
    "            print('inner loop',s2,s)\n",
    "            if s == s2:\n",
    "                l.append(\"pico\")\n",
    "           \n",
    "                \n",
    "#     if s != s1:\n",
    "#         l.append(\"pico\")\n",
    "#     print(a,b)\n",
    "l1"
   ]
  },
  {
   "cell_type": "code",
   "execution_count": null,
   "id": "91a3446a",
   "metadata": {},
   "outputs": [],
   "source": []
  }
 ],
 "metadata": {
  "kernelspec": {
   "display_name": "Python 3 (ipykernel)",
   "language": "python",
   "name": "python3"
  },
  "language_info": {
   "codemirror_mode": {
    "name": "ipython",
    "version": 3
   },
   "file_extension": ".py",
   "mimetype": "text/x-python",
   "name": "python",
   "nbconvert_exporter": "python",
   "pygments_lexer": "ipython3",
   "version": "3.9.13"
  }
 },
 "nbformat": 4,
 "nbformat_minor": 5
}
